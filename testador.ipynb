{
 "cells": [
  {
   "cell_type": "markdown",
   "metadata": {},
   "source": [
    "# Testador\n",
    "\n",
    "Esse testador será utilizado para avaliar os trabalhos. Porém utilizarei palavras diferentes, não mostradas aqui 😉\n",
    "\n",
    "Dica: para facilitar a resolução do trabalho, recomendo clicar no menu `cell` $\\rightarrow$ `run all`"
   ]
  },
  {
   "cell_type": "markdown",
   "metadata": {},
   "source": [
    "## Exemplo de template\n",
    "\n",
    "`sua_funcao` é a sua função. Você pode implementá-la do jeito que quiser: trocar o nome, trocar os parâmetros, o nome deles. O que der na telha!\n",
    "\n",
    "Você só não pode remover dois parâmetros: `a` e `b`. Eu usarei-os para verificar se as respostas estão corretas."
   ]
  },
  {
   "cell_type": "code",
   "execution_count": 2,
   "metadata": {},
   "outputs": [],
   "source": [
    "def sua_funcao(a, b, **kwargs):\n",
    "    \"\"\"\n",
    "    Exemplo de uma função que você pode utilizar para calcular o Teorema de Bayes. \n",
    "    \n",
    "    Modifique tudo nela, menos os parâmetros a e b (eles podem aparecer em qualquer ordem, não importa)\n",
    "    \"\"\"\n",
    "    return 0."
   ]
  },
  {
   "cell_type": "markdown",
   "metadata": {},
   "source": [
    "## Testador\n",
    "\n",
    "Eu utilizarei **este testador** para testar a sua implementação do Teorema de Bayes.\n",
    "\n",
    "Repare que ele só se importa com três coisas: uma referência para a sua função `func`, o parâmetro `a`, e o parâmetro `b`.\n",
    "\n",
    "O parâmetro `**kwargs` recebe quaisquer outros argumentos que a sua função precise para funcionar direito. O meu testador recebe estes outros parâmetros, e passa para a sua função. A partir daí, é com ela."
   ]
  },
  {
   "cell_type": "code",
   "execution_count": 3,
   "metadata": {},
   "outputs": [],
   "source": [
    "def testador(func, a, b, **kwargs):\n",
    "    return func(a=a, b=b, **kwargs)"
   ]
  },
  {
   "cell_type": "markdown",
   "metadata": {},
   "source": [
    "## Exemplo de testagem\n",
    "\n",
    "Abaixo segue um exemplo de como eu farei os testes com a sua função:"
   ]
  },
  {
   "cell_type": "code",
   "execution_count": 4,
   "metadata": {},
   "outputs": [
    {
     "data": {
      "text/plain": [
       "0.0"
      ]
     },
     "execution_count": 4,
     "metadata": {},
     "output_type": "execute_result"
    }
   ],
   "source": [
    "testador(func=sua_funcao, a='pandemic', b=0, contagem_de_palavras=None)"
   ]
  },
  {
   "cell_type": "markdown",
   "metadata": {},
   "source": [
    "Reparou como eu passei um parâmetro `contagem_de_palavras` para o testador?\n",
    "\n",
    "Quem define esse parâmetro é você: o meu testador é totalmente ignorante em relação à esse parâmetro. Ele o recebe através do seu `**kwargs`, mas ele passa direto para a sua função.\n",
    "\n",
    "Você pode passar quantas variáveis de suporte quiser:"
   ]
  },
  {
   "cell_type": "code",
   "execution_count": 5,
   "metadata": {},
   "outputs": [
    {
     "data": {
      "text/plain": [
       "0.0"
      ]
     },
     "execution_count": 5,
     "metadata": {},
     "output_type": "execute_result"
    }
   ],
   "source": [
    "testador(func=sua_funcao, a='pandemic', b=0, contagem_de_palavras=None, contagem_palavra_pandemic=1, outra_contagem=10)"
   ]
  },
  {
   "cell_type": "markdown",
   "metadata": {},
   "source": [
    "## Teste\n",
    "\n",
    "Agora é pra valer: segue um exemplo do que eu vou checar para ver se sua função está fazendo o processamento correto.\n",
    "\n",
    "Lembrando que os exemplos dados para este trabalho são:\n",
    "\n",
    "#### Contagem de palavras\n",
    "\n",
    "| Texto   | Contagem |\n",
    "|:--------|---------:|\n",
    "| texto_1 |     1310 |\n",
    "| texto_2 |      362 |\n",
    "| texto_3 |      192 |\n",
    "| texto_4 |      924 |\n",
    "| texto_5 |     1025 |\n",
    "\n",
    "#### Contagem da palavra 'pandemic' nos textos\n",
    "\n",
    "| pandemic | Contagem |\n",
    "|:---------|---------:|\n",
    "|  texto_1 |        4 |\n",
    "|  texto_2 |        0 |\n",
    "|  texto_3 |        0 |\n",
    "|  texto_4 |        4 |\n",
    "|  texto_5 |        1 |\n",
    "\n",
    "#### Probabilidades\n",
    "\n",
    "|  Query                        |  Probabilidade  |\n",
    "|:------------------------------|:----------------|\n",
    "| P('pandemic')                 |  0.00236        |\n",
    "| P('pandemic' \\| texto_1)      |  0.003053       |\n",
    "| P('pandemic' \\| texto_2)      |  0.0            |\n",
    "| P('pandemic' \\| texto_3)      |  0.0            |\n",
    "| P('pandemic' \\| texto_4)      |  0.004329       |\n",
    "| P('pandemic' \\| texto_5)      |  0.000976       |\n",
    "| P('coronavirus')\t\t\t    |  0.004721       |\n",
    "| P('coronavirus' \\| texto_1)\t|  0.003053       |\n",
    "| P('coronavirus' \\| texto_2)\t|  0.008287       |\n",
    "| P('coronavirus' \\| texto_3)\t|  0.005208       |\n",
    "| P('coronavirus' \\| texto_4)\t|  0.006494       |\n",
    "| P('coronavirus' \\| texto_5)\t|  0.003902       |"
   ]
  },
  {
   "cell_type": "code",
   "execution_count": 6,
   "metadata": {},
   "outputs": [
    {
     "data": {
      "text/html": [
       "<div>\n",
       "<style scoped>\n",
       "    .dataframe tbody tr th:only-of-type {\n",
       "        vertical-align: middle;\n",
       "    }\n",
       "\n",
       "    .dataframe tbody tr th {\n",
       "        vertical-align: top;\n",
       "    }\n",
       "\n",
       "    .dataframe thead th {\n",
       "        text-align: right;\n",
       "    }\n",
       "</style>\n",
       "<table border=\"1\" class=\"dataframe\">\n",
       "  <thead>\n",
       "    <tr style=\"text-align: right;\">\n",
       "      <th></th>\n",
       "      <th>query</th>\n",
       "      <th>sua resposta</th>\n",
       "      <th>resposta correta</th>\n",
       "    </tr>\n",
       "  </thead>\n",
       "  <tbody>\n",
       "    <tr>\n",
       "      <th>0</th>\n",
       "      <td>P(pandemic)</td>\n",
       "      <td>0</td>\n",
       "      <td>0.00236</td>\n",
       "    </tr>\n",
       "    <tr>\n",
       "      <th>1</th>\n",
       "      <td>P(pandemic | texto_1)</td>\n",
       "      <td>0</td>\n",
       "      <td>0.003053</td>\n",
       "    </tr>\n",
       "    <tr>\n",
       "      <th>2</th>\n",
       "      <td>P(pandemic | texto_2)</td>\n",
       "      <td>0</td>\n",
       "      <td>0</td>\n",
       "    </tr>\n",
       "    <tr>\n",
       "      <th>3</th>\n",
       "      <td>P(pandemic | texto_3)</td>\n",
       "      <td>0</td>\n",
       "      <td>0</td>\n",
       "    </tr>\n",
       "    <tr>\n",
       "      <th>4</th>\n",
       "      <td>P(pandemic | texto_4)</td>\n",
       "      <td>0</td>\n",
       "      <td>0.004329</td>\n",
       "    </tr>\n",
       "    <tr>\n",
       "      <th>5</th>\n",
       "      <td>P(pandemic | texto_5)</td>\n",
       "      <td>0</td>\n",
       "      <td>0.000976</td>\n",
       "    </tr>\n",
       "    <tr>\n",
       "      <th>6</th>\n",
       "      <td>P(coronavirus)</td>\n",
       "      <td>0</td>\n",
       "      <td>0.004721</td>\n",
       "    </tr>\n",
       "    <tr>\n",
       "      <th>7</th>\n",
       "      <td>P(coronavirus | texto_1)</td>\n",
       "      <td>0</td>\n",
       "      <td>0.003053</td>\n",
       "    </tr>\n",
       "    <tr>\n",
       "      <th>8</th>\n",
       "      <td>P(coronavirus | texto_2)</td>\n",
       "      <td>0</td>\n",
       "      <td>0.008287</td>\n",
       "    </tr>\n",
       "    <tr>\n",
       "      <th>9</th>\n",
       "      <td>P(coronavirus | texto_3)</td>\n",
       "      <td>0</td>\n",
       "      <td>0.005208</td>\n",
       "    </tr>\n",
       "    <tr>\n",
       "      <th>10</th>\n",
       "      <td>P(coronavirus | texto_4)</td>\n",
       "      <td>0</td>\n",
       "      <td>0.006494</td>\n",
       "    </tr>\n",
       "    <tr>\n",
       "      <th>11</th>\n",
       "      <td>P(coronavirus | texto_5)</td>\n",
       "      <td>0</td>\n",
       "      <td>0.003902</td>\n",
       "    </tr>\n",
       "  </tbody>\n",
       "</table>\n",
       "</div>"
      ],
      "text/plain": [
       "                       query sua resposta resposta correta\n",
       "0                P(pandemic)            0          0.00236\n",
       "1      P(pandemic | texto_1)            0         0.003053\n",
       "2      P(pandemic | texto_2)            0                0\n",
       "3      P(pandemic | texto_3)            0                0\n",
       "4      P(pandemic | texto_4)            0         0.004329\n",
       "5      P(pandemic | texto_5)            0         0.000976\n",
       "6             P(coronavirus)            0         0.004721\n",
       "7   P(coronavirus | texto_1)            0         0.003053\n",
       "8   P(coronavirus | texto_2)            0         0.008287\n",
       "9   P(coronavirus | texto_3)            0         0.005208\n",
       "10  P(coronavirus | texto_4)            0         0.006494\n",
       "11  P(coronavirus | texto_5)            0         0.003902"
      ]
     },
     "metadata": {},
     "output_type": "display_data"
    }
   ],
   "source": [
    "import pandas as pd\n",
    "import numpy as np\n",
    "from IPython.display import display\n",
    "\n",
    "correct_probs = [0.00236, 0.003053, 0, 0, 0.004329, 0.000976, 0.004721, 0.003053, 0.008287, 0.005208, 0.006494, 0.003902]\n",
    "aas = ['pandemic'] * 6 + ['coronavirus'] * 6\n",
    "bbs = [None, 0, 1, 2, 3, 4, None, 0, 1, 2, 3, 4]\n",
    "\n",
    "df = pd.DataFrame(index=np.arange(len(correct_probs)), columns=['query', 'sua resposta', 'resposta correta'])\n",
    "\n",
    "for i in range(len(correct_probs)):\n",
    "    priori = ' | texto_%d' % (bbs[i] + 1) if bbs[i] is not None else ''\n",
    "    df.iloc[i] = ['P(%s%s)' % (aas[i], priori), testador(func=sua_funcao, a=aas[i], b=bbs[i]), correct_probs[i]]\n",
    "    \n",
    "display(df)"
   ]
  }
 ],
 "metadata": {
  "kernelspec": {
   "display_name": "Python 3",
   "language": "python",
   "name": "python3"
  },
  "language_info": {
   "codemirror_mode": {
    "name": "ipython",
    "version": 3
   },
   "file_extension": ".py",
   "mimetype": "text/x-python",
   "name": "python",
   "nbconvert_exporter": "python",
   "pygments_lexer": "ipython3",
   "version": "3.8.3"
  }
 },
 "nbformat": 4,
 "nbformat_minor": 4
}
